{
  "nbformat": 4,
  "nbformat_minor": 0,
  "metadata": {
    "colab": {
      "name": "Stock_Market_Predictor_with_LSTM.ipynb",
      "version": "0.3.2",
      "provenance": [],
      "collapsed_sections": [],
      "include_colab_link": true
    },
    "kernelspec": {
      "name": "python3",
      "display_name": "Python 3"
    },
    "accelerator": "GPU"
  },
  "cells": [
    {
      "cell_type": "markdown",
      "metadata": {
        "id": "view-in-github",
        "colab_type": "text"
      },
      "source": [
        "<a href=\"https://colab.research.google.com/github/moe18/Stock-Market-Predictor-with-LSTM/blob/master/Stock_Market_Predictor_with_LSTM.ipynb\" target=\"_parent\"><img src=\"https://colab.research.google.com/assets/colab-badge.svg\" alt=\"Open In Colab\"/></a>"
      ]
    },
    {
      "metadata": {
        "id": "Da6TjwF0jHQQ",
        "colab_type": "text"
      },
      "cell_type": "markdown",
      "source": [
        "# Stock Market Predictor with LSTM\n",
        "\n",
        "**Summary:** will use historical stock data and LSTM to try and predict if a stock will go up or down in the next few days.(DO NOT BASE ANY INVESTMENT DECISION UPON THIS ALGORITHM)\n",
        "\n"
      ]
    },
    {
      "metadata": {
        "id": "F68wvSSJj6Di",
        "colab_type": "text"
      },
      "cell_type": "markdown",
      "source": [
        "## Get the Data\n",
        "- will get 5 years of data from yahoo finance \n",
        "  - Open price\n",
        "  - Close price\n",
        "  - High price\n",
        "  - Low price\n",
        "  - Volume\n",
        "  - Adj Close\n",
        "  \n",
        " In this code i will be looking at three index funds SPY, DIA, and QQQ. In order to try and predict if SPY will go up in 3 days"
      ]
    },
    {
      "metadata": {
        "id": "YvSSZAH_k7rO",
        "colab_type": "code",
        "colab": {}
      },
      "cell_type": "code",
      "source": [
        "import pandas as pd\n",
        "import numpy as np\n",
        "\n",
        "import pandas_datareader.data as web\n",
        "from datetime import datetime"
      ],
      "execution_count": 0,
      "outputs": []
    },
    {
      "metadata": {
        "id": "0sWFuk-vjGVE",
        "colab_type": "code",
        "colab": {
          "base_uri": "https://localhost:8080/",
          "height": 286
        },
        "outputId": "f5f6f35d-a902-4775-f69f-a99e6c61d31b"
      },
      "cell_type": "code",
      "source": [
        "\n",
        "\n",
        "start = datetime(2010, 3, 1)\n",
        "\n",
        "end = datetime(2018, 3, 1)\n",
        "\n",
        "stocks = ['SPY','DIA','QQQ']\n",
        "\n",
        "f = web.DataReader(stocks, 'yahoo', start, end)\n",
        "\n",
        "f.head()"
      ],
      "execution_count": 2,
      "outputs": [
        {
          "output_type": "execute_result",
          "data": {
            "text/html": [
              "<div>\n",
              "<style scoped>\n",
              "    .dataframe tbody tr th:only-of-type {\n",
              "        vertical-align: middle;\n",
              "    }\n",
              "\n",
              "    .dataframe tbody tr th {\n",
              "        vertical-align: top;\n",
              "    }\n",
              "\n",
              "    .dataframe thead tr th {\n",
              "        text-align: left;\n",
              "    }\n",
              "\n",
              "    .dataframe thead tr:last-of-type th {\n",
              "        text-align: right;\n",
              "    }\n",
              "</style>\n",
              "<table border=\"1\" class=\"dataframe\">\n",
              "  <thead>\n",
              "    <tr>\n",
              "      <th>Attributes</th>\n",
              "      <th colspan=\"3\" halign=\"left\">High</th>\n",
              "      <th colspan=\"3\" halign=\"left\">Low</th>\n",
              "      <th colspan=\"3\" halign=\"left\">Open</th>\n",
              "      <th colspan=\"3\" halign=\"left\">Close</th>\n",
              "      <th colspan=\"3\" halign=\"left\">Volume</th>\n",
              "      <th colspan=\"3\" halign=\"left\">Adj Close</th>\n",
              "    </tr>\n",
              "    <tr>\n",
              "      <th>Symbols</th>\n",
              "      <th>DIA</th>\n",
              "      <th>QQQ</th>\n",
              "      <th>SPY</th>\n",
              "      <th>DIA</th>\n",
              "      <th>QQQ</th>\n",
              "      <th>SPY</th>\n",
              "      <th>DIA</th>\n",
              "      <th>QQQ</th>\n",
              "      <th>SPY</th>\n",
              "      <th>DIA</th>\n",
              "      <th>QQQ</th>\n",
              "      <th>SPY</th>\n",
              "      <th>DIA</th>\n",
              "      <th>QQQ</th>\n",
              "      <th>SPY</th>\n",
              "      <th>DIA</th>\n",
              "      <th>QQQ</th>\n",
              "      <th>SPY</th>\n",
              "    </tr>\n",
              "    <tr>\n",
              "      <th>Date</th>\n",
              "      <th></th>\n",
              "      <th></th>\n",
              "      <th></th>\n",
              "      <th></th>\n",
              "      <th></th>\n",
              "      <th></th>\n",
              "      <th></th>\n",
              "      <th></th>\n",
              "      <th></th>\n",
              "      <th></th>\n",
              "      <th></th>\n",
              "      <th></th>\n",
              "      <th></th>\n",
              "      <th></th>\n",
              "      <th></th>\n",
              "      <th></th>\n",
              "      <th></th>\n",
              "      <th></th>\n",
              "    </tr>\n",
              "  </thead>\n",
              "  <tbody>\n",
              "    <tr>\n",
              "      <th>2010-03-01</th>\n",
              "      <td>104.199997</td>\n",
              "      <td>45.490002</td>\n",
              "      <td>112.000000</td>\n",
              "      <td>103.580002</td>\n",
              "      <td>44.950001</td>\n",
              "      <td>111.169998</td>\n",
              "      <td>103.669998</td>\n",
              "      <td>44.959999</td>\n",
              "      <td>111.199997</td>\n",
              "      <td>104.019997</td>\n",
              "      <td>45.410000</td>\n",
              "      <td>111.889999</td>\n",
              "      <td>5818700.0</td>\n",
              "      <td>77290100.0</td>\n",
              "      <td>147709700.0</td>\n",
              "      <td>83.919640</td>\n",
              "      <td>41.234989</td>\n",
              "      <td>92.934830</td>\n",
              "    </tr>\n",
              "    <tr>\n",
              "      <th>2010-03-02</th>\n",
              "      <td>104.639999</td>\n",
              "      <td>45.849998</td>\n",
              "      <td>112.739998</td>\n",
              "      <td>103.949997</td>\n",
              "      <td>45.450001</td>\n",
              "      <td>112.000000</td>\n",
              "      <td>104.430000</td>\n",
              "      <td>45.570000</td>\n",
              "      <td>112.370003</td>\n",
              "      <td>104.010002</td>\n",
              "      <td>45.549999</td>\n",
              "      <td>112.199997</td>\n",
              "      <td>5673300.0</td>\n",
              "      <td>76368500.0</td>\n",
              "      <td>160992400.0</td>\n",
              "      <td>83.911613</td>\n",
              "      <td>41.362122</td>\n",
              "      <td>93.192322</td>\n",
              "    </tr>\n",
              "    <tr>\n",
              "      <th>2010-03-03</th>\n",
              "      <td>104.769997</td>\n",
              "      <td>45.820000</td>\n",
              "      <td>112.970001</td>\n",
              "      <td>103.830002</td>\n",
              "      <td>45.430000</td>\n",
              "      <td>112.019997</td>\n",
              "      <td>104.349998</td>\n",
              "      <td>45.660000</td>\n",
              "      <td>112.489998</td>\n",
              "      <td>104.089996</td>\n",
              "      <td>45.599998</td>\n",
              "      <td>112.300003</td>\n",
              "      <td>5891900.0</td>\n",
              "      <td>65735500.0</td>\n",
              "      <td>150785000.0</td>\n",
              "      <td>83.976173</td>\n",
              "      <td>41.407520</td>\n",
              "      <td>93.275368</td>\n",
              "    </tr>\n",
              "    <tr>\n",
              "      <th>2010-03-04</th>\n",
              "      <td>104.570000</td>\n",
              "      <td>45.810001</td>\n",
              "      <td>112.800003</td>\n",
              "      <td>103.959999</td>\n",
              "      <td>45.400002</td>\n",
              "      <td>112.029999</td>\n",
              "      <td>104.239998</td>\n",
              "      <td>45.630001</td>\n",
              "      <td>112.449997</td>\n",
              "      <td>104.500000</td>\n",
              "      <td>45.750000</td>\n",
              "      <td>112.639999</td>\n",
              "      <td>6168300.0</td>\n",
              "      <td>54470900.0</td>\n",
              "      <td>135770400.0</td>\n",
              "      <td>84.306938</td>\n",
              "      <td>41.543732</td>\n",
              "      <td>93.557755</td>\n",
              "    </tr>\n",
              "    <tr>\n",
              "      <th>2010-03-05</th>\n",
              "      <td>105.769997</td>\n",
              "      <td>46.540001</td>\n",
              "      <td>114.339996</td>\n",
              "      <td>104.870003</td>\n",
              "      <td>45.990002</td>\n",
              "      <td>113.099998</td>\n",
              "      <td>104.989998</td>\n",
              "      <td>46.090000</td>\n",
              "      <td>113.370003</td>\n",
              "      <td>105.760002</td>\n",
              "      <td>46.439999</td>\n",
              "      <td>114.250000</td>\n",
              "      <td>6753500.0</td>\n",
              "      <td>68136300.0</td>\n",
              "      <td>176118800.0</td>\n",
              "      <td>85.323486</td>\n",
              "      <td>42.170288</td>\n",
              "      <td>94.895035</td>\n",
              "    </tr>\n",
              "  </tbody>\n",
              "</table>\n",
              "</div>"
            ],
            "text/plain": [
              "Attributes        High                                Low             \\\n",
              "Symbols            DIA        QQQ         SPY         DIA        QQQ   \n",
              "Date                                                                   \n",
              "2010-03-01  104.199997  45.490002  112.000000  103.580002  44.950001   \n",
              "2010-03-02  104.639999  45.849998  112.739998  103.949997  45.450001   \n",
              "2010-03-03  104.769997  45.820000  112.970001  103.830002  45.430000   \n",
              "2010-03-04  104.570000  45.810001  112.800003  103.959999  45.400002   \n",
              "2010-03-05  105.769997  46.540001  114.339996  104.870003  45.990002   \n",
              "\n",
              "Attributes                    Open                              Close  \\\n",
              "Symbols            SPY         DIA        QQQ         SPY         DIA   \n",
              "Date                                                                    \n",
              "2010-03-01  111.169998  103.669998  44.959999  111.199997  104.019997   \n",
              "2010-03-02  112.000000  104.430000  45.570000  112.370003  104.010002   \n",
              "2010-03-03  112.019997  104.349998  45.660000  112.489998  104.089996   \n",
              "2010-03-04  112.029999  104.239998  45.630001  112.449997  104.500000   \n",
              "2010-03-05  113.099998  104.989998  46.090000  113.370003  105.760002   \n",
              "\n",
              "Attributes                            Volume                           \\\n",
              "Symbols           QQQ         SPY        DIA         QQQ          SPY   \n",
              "Date                                                                    \n",
              "2010-03-01  45.410000  111.889999  5818700.0  77290100.0  147709700.0   \n",
              "2010-03-02  45.549999  112.199997  5673300.0  76368500.0  160992400.0   \n",
              "2010-03-03  45.599998  112.300003  5891900.0  65735500.0  150785000.0   \n",
              "2010-03-04  45.750000  112.639999  6168300.0  54470900.0  135770400.0   \n",
              "2010-03-05  46.439999  114.250000  6753500.0  68136300.0  176118800.0   \n",
              "\n",
              "Attributes  Adj Close                        \n",
              "Symbols           DIA        QQQ        SPY  \n",
              "Date                                         \n",
              "2010-03-01  83.919640  41.234989  92.934830  \n",
              "2010-03-02  83.911613  41.362122  93.192322  \n",
              "2010-03-03  83.976173  41.407520  93.275368  \n",
              "2010-03-04  84.306938  41.543732  93.557755  \n",
              "2010-03-05  85.323486  42.170288  94.895035  "
            ]
          },
          "metadata": {
            "tags": []
          },
          "execution_count": 2
        }
      ]
    },
    {
      "metadata": {
        "id": "qCOX43ptlEqR",
        "colab_type": "text"
      },
      "cell_type": "markdown",
      "source": [
        "Will only look at the close price, volume, high price, and low price"
      ]
    },
    {
      "metadata": {
        "id": "gaGTnvr4kWCE",
        "colab_type": "code",
        "colab": {}
      },
      "cell_type": "code",
      "source": [
        "df = f[['Close','Volume','High','Low']] "
      ],
      "execution_count": 0,
      "outputs": []
    },
    {
      "metadata": {
        "id": "AehMZGinlRaj",
        "colab_type": "text"
      },
      "cell_type": "markdown",
      "source": [
        "## Preparing the Data"
      ]
    },
    {
      "metadata": {
        "id": "_o3EZBj4lMCb",
        "colab_type": "code",
        "colab": {}
      },
      "cell_type": "code",
      "source": [
        "SEQ_LEN = 30 # number of periods to look back at\n",
        "PERIODS_FORWARD = 3 # number of periods in the future the model will look forward to \n",
        "STOCK = 'SPY' # the option price for this stock will be predicted"
      ],
      "execution_count": 0,
      "outputs": []
    },
    {
      "metadata": {
        "id": "ELdXhzM6lXJJ",
        "colab_type": "code",
        "colab": {
          "base_uri": "https://localhost:8080/",
          "height": 119
        },
        "outputId": "14689543-7152-4cf6-d120-83e9bd82ef00"
      },
      "cell_type": "code",
      "source": [
        "# make a future colume that shows where the stock will be in 3 days\n",
        "df['future'] = df['Close'][STOCK].shift(-PERIODS_FORWARD)"
      ],
      "execution_count": 5,
      "outputs": [
        {
          "output_type": "stream",
          "text": [
            "/usr/local/lib/python3.6/dist-packages/ipykernel_launcher.py:1: SettingWithCopyWarning: \n",
            "A value is trying to be set on a copy of a slice from a DataFrame.\n",
            "Try using .loc[row_indexer,col_indexer] = value instead\n",
            "\n",
            "See the caveats in the documentation: http://pandas.pydata.org/pandas-docs/stable/indexing.html#indexing-view-versus-copy\n",
            "  \"\"\"Entry point for launching an IPython kernel.\n"
          ],
          "name": "stderr"
        }
      ]
    },
    {
      "metadata": {
        "id": "i8HC7Zkhljyl",
        "colab_type": "code",
        "colab": {
          "base_uri": "https://localhost:8080/",
          "height": 286
        },
        "outputId": "1dd04a8c-adcf-4b84-e91b-b8026b2713a0"
      },
      "cell_type": "code",
      "source": [
        "df.head()"
      ],
      "execution_count": 6,
      "outputs": [
        {
          "output_type": "execute_result",
          "data": {
            "text/html": [
              "<div>\n",
              "<style scoped>\n",
              "    .dataframe tbody tr th:only-of-type {\n",
              "        vertical-align: middle;\n",
              "    }\n",
              "\n",
              "    .dataframe tbody tr th {\n",
              "        vertical-align: top;\n",
              "    }\n",
              "\n",
              "    .dataframe thead tr th {\n",
              "        text-align: left;\n",
              "    }\n",
              "\n",
              "    .dataframe thead tr:last-of-type th {\n",
              "        text-align: right;\n",
              "    }\n",
              "</style>\n",
              "<table border=\"1\" class=\"dataframe\">\n",
              "  <thead>\n",
              "    <tr>\n",
              "      <th>Attributes</th>\n",
              "      <th colspan=\"3\" halign=\"left\">Close</th>\n",
              "      <th colspan=\"3\" halign=\"left\">Volume</th>\n",
              "      <th colspan=\"3\" halign=\"left\">High</th>\n",
              "      <th colspan=\"3\" halign=\"left\">Low</th>\n",
              "      <th>future</th>\n",
              "    </tr>\n",
              "    <tr>\n",
              "      <th>Symbols</th>\n",
              "      <th>DIA</th>\n",
              "      <th>QQQ</th>\n",
              "      <th>SPY</th>\n",
              "      <th>DIA</th>\n",
              "      <th>QQQ</th>\n",
              "      <th>SPY</th>\n",
              "      <th>DIA</th>\n",
              "      <th>QQQ</th>\n",
              "      <th>SPY</th>\n",
              "      <th>DIA</th>\n",
              "      <th>QQQ</th>\n",
              "      <th>SPY</th>\n",
              "      <th></th>\n",
              "    </tr>\n",
              "    <tr>\n",
              "      <th>Date</th>\n",
              "      <th></th>\n",
              "      <th></th>\n",
              "      <th></th>\n",
              "      <th></th>\n",
              "      <th></th>\n",
              "      <th></th>\n",
              "      <th></th>\n",
              "      <th></th>\n",
              "      <th></th>\n",
              "      <th></th>\n",
              "      <th></th>\n",
              "      <th></th>\n",
              "      <th></th>\n",
              "    </tr>\n",
              "  </thead>\n",
              "  <tbody>\n",
              "    <tr>\n",
              "      <th>2010-03-01</th>\n",
              "      <td>104.019997</td>\n",
              "      <td>45.410000</td>\n",
              "      <td>111.889999</td>\n",
              "      <td>5818700.0</td>\n",
              "      <td>77290100.0</td>\n",
              "      <td>147709700.0</td>\n",
              "      <td>104.199997</td>\n",
              "      <td>45.490002</td>\n",
              "      <td>112.000000</td>\n",
              "      <td>103.580002</td>\n",
              "      <td>44.950001</td>\n",
              "      <td>111.169998</td>\n",
              "      <td>112.639999</td>\n",
              "    </tr>\n",
              "    <tr>\n",
              "      <th>2010-03-02</th>\n",
              "      <td>104.010002</td>\n",
              "      <td>45.549999</td>\n",
              "      <td>112.199997</td>\n",
              "      <td>5673300.0</td>\n",
              "      <td>76368500.0</td>\n",
              "      <td>160992400.0</td>\n",
              "      <td>104.639999</td>\n",
              "      <td>45.849998</td>\n",
              "      <td>112.739998</td>\n",
              "      <td>103.949997</td>\n",
              "      <td>45.450001</td>\n",
              "      <td>112.000000</td>\n",
              "      <td>114.250000</td>\n",
              "    </tr>\n",
              "    <tr>\n",
              "      <th>2010-03-03</th>\n",
              "      <td>104.089996</td>\n",
              "      <td>45.599998</td>\n",
              "      <td>112.300003</td>\n",
              "      <td>5891900.0</td>\n",
              "      <td>65735500.0</td>\n",
              "      <td>150785000.0</td>\n",
              "      <td>104.769997</td>\n",
              "      <td>45.820000</td>\n",
              "      <td>112.970001</td>\n",
              "      <td>103.830002</td>\n",
              "      <td>45.430000</td>\n",
              "      <td>112.019997</td>\n",
              "      <td>114.269997</td>\n",
              "    </tr>\n",
              "    <tr>\n",
              "      <th>2010-03-04</th>\n",
              "      <td>104.500000</td>\n",
              "      <td>45.750000</td>\n",
              "      <td>112.639999</td>\n",
              "      <td>6168300.0</td>\n",
              "      <td>54470900.0</td>\n",
              "      <td>135770400.0</td>\n",
              "      <td>104.570000</td>\n",
              "      <td>45.810001</td>\n",
              "      <td>112.800003</td>\n",
              "      <td>103.959999</td>\n",
              "      <td>45.400002</td>\n",
              "      <td>112.029999</td>\n",
              "      <td>114.459999</td>\n",
              "    </tr>\n",
              "    <tr>\n",
              "      <th>2010-03-05</th>\n",
              "      <td>105.760002</td>\n",
              "      <td>46.439999</td>\n",
              "      <td>114.250000</td>\n",
              "      <td>6753500.0</td>\n",
              "      <td>68136300.0</td>\n",
              "      <td>176118800.0</td>\n",
              "      <td>105.769997</td>\n",
              "      <td>46.540001</td>\n",
              "      <td>114.339996</td>\n",
              "      <td>104.870003</td>\n",
              "      <td>45.990002</td>\n",
              "      <td>113.099998</td>\n",
              "      <td>114.970001</td>\n",
              "    </tr>\n",
              "  </tbody>\n",
              "</table>\n",
              "</div>"
            ],
            "text/plain": [
              "Attributes       Close                            Volume              \\\n",
              "Symbols            DIA        QQQ         SPY        DIA         QQQ   \n",
              "Date                                                                   \n",
              "2010-03-01  104.019997  45.410000  111.889999  5818700.0  77290100.0   \n",
              "2010-03-02  104.010002  45.549999  112.199997  5673300.0  76368500.0   \n",
              "2010-03-03  104.089996  45.599998  112.300003  5891900.0  65735500.0   \n",
              "2010-03-04  104.500000  45.750000  112.639999  6168300.0  54470900.0   \n",
              "2010-03-05  105.760002  46.439999  114.250000  6753500.0  68136300.0   \n",
              "\n",
              "Attributes                     High                                Low  \\\n",
              "Symbols             SPY         DIA        QQQ         SPY         DIA   \n",
              "Date                                                                     \n",
              "2010-03-01  147709700.0  104.199997  45.490002  112.000000  103.580002   \n",
              "2010-03-02  160992400.0  104.639999  45.849998  112.739998  103.949997   \n",
              "2010-03-03  150785000.0  104.769997  45.820000  112.970001  103.830002   \n",
              "2010-03-04  135770400.0  104.570000  45.810001  112.800003  103.959999   \n",
              "2010-03-05  176118800.0  105.769997  46.540001  114.339996  104.870003   \n",
              "\n",
              "Attributes                             future  \n",
              "Symbols           QQQ         SPY              \n",
              "Date                                           \n",
              "2010-03-01  44.950001  111.169998  112.639999  \n",
              "2010-03-02  45.450001  112.000000  114.250000  \n",
              "2010-03-03  45.430000  112.019997  114.269997  \n",
              "2010-03-04  45.400002  112.029999  114.459999  \n",
              "2010-03-05  45.990002  113.099998  114.970001  "
            ]
          },
          "metadata": {
            "tags": []
          },
          "execution_count": 6
        }
      ]
    },
    {
      "metadata": {
        "id": "_ynQIPADls4C",
        "colab_type": "code",
        "colab": {}
      },
      "cell_type": "code",
      "source": [
        "# a function to determin if a stock went up in the past three days \n",
        "def classify(current, future):\n",
        "  if float(future) > float(current):\n",
        "    return 1\n",
        "  else:\n",
        "    return 0"
      ],
      "execution_count": 0,
      "outputs": []
    },
    {
      "metadata": {
        "id": "3h9UP8i8l9qV",
        "colab_type": "code",
        "colab": {}
      },
      "cell_type": "code",
      "source": [
        "# create a target col\n",
        "df['target'] = list(map(classify,df['Close'][STOCK],df['future']))"
      ],
      "execution_count": 0,
      "outputs": []
    },
    {
      "metadata": {
        "id": "k0heTJJTmIlg",
        "colab_type": "code",
        "colab": {
          "base_uri": "https://localhost:8080/",
          "height": 286
        },
        "outputId": "834c38ba-80f5-43f5-98a5-dada36ea1a2c"
      },
      "cell_type": "code",
      "source": [
        "df.head()"
      ],
      "execution_count": 89,
      "outputs": [
        {
          "output_type": "execute_result",
          "data": {
            "text/html": [
              "<div>\n",
              "<style scoped>\n",
              "    .dataframe tbody tr th:only-of-type {\n",
              "        vertical-align: middle;\n",
              "    }\n",
              "\n",
              "    .dataframe tbody tr th {\n",
              "        vertical-align: top;\n",
              "    }\n",
              "\n",
              "    .dataframe thead tr th {\n",
              "        text-align: left;\n",
              "    }\n",
              "\n",
              "    .dataframe thead tr:last-of-type th {\n",
              "        text-align: right;\n",
              "    }\n",
              "</style>\n",
              "<table border=\"1\" class=\"dataframe\">\n",
              "  <thead>\n",
              "    <tr>\n",
              "      <th>Attributes</th>\n",
              "      <th colspan=\"3\" halign=\"left\">Close</th>\n",
              "      <th colspan=\"3\" halign=\"left\">Volume</th>\n",
              "      <th colspan=\"3\" halign=\"left\">High</th>\n",
              "      <th colspan=\"3\" halign=\"left\">Low</th>\n",
              "      <th>future</th>\n",
              "      <th>target</th>\n",
              "    </tr>\n",
              "    <tr>\n",
              "      <th>Symbols</th>\n",
              "      <th>DIA</th>\n",
              "      <th>QQQ</th>\n",
              "      <th>SPY</th>\n",
              "      <th>DIA</th>\n",
              "      <th>QQQ</th>\n",
              "      <th>SPY</th>\n",
              "      <th>DIA</th>\n",
              "      <th>QQQ</th>\n",
              "      <th>SPY</th>\n",
              "      <th>DIA</th>\n",
              "      <th>QQQ</th>\n",
              "      <th>SPY</th>\n",
              "      <th></th>\n",
              "      <th></th>\n",
              "    </tr>\n",
              "    <tr>\n",
              "      <th>Date</th>\n",
              "      <th></th>\n",
              "      <th></th>\n",
              "      <th></th>\n",
              "      <th></th>\n",
              "      <th></th>\n",
              "      <th></th>\n",
              "      <th></th>\n",
              "      <th></th>\n",
              "      <th></th>\n",
              "      <th></th>\n",
              "      <th></th>\n",
              "      <th></th>\n",
              "      <th></th>\n",
              "      <th></th>\n",
              "    </tr>\n",
              "  </thead>\n",
              "  <tbody>\n",
              "    <tr>\n",
              "      <th>2010-03-01</th>\n",
              "      <td>104.019997</td>\n",
              "      <td>45.410000</td>\n",
              "      <td>111.889999</td>\n",
              "      <td>5818700.0</td>\n",
              "      <td>77290100.0</td>\n",
              "      <td>147709700.0</td>\n",
              "      <td>104.199997</td>\n",
              "      <td>45.490002</td>\n",
              "      <td>112.000000</td>\n",
              "      <td>103.580002</td>\n",
              "      <td>44.950001</td>\n",
              "      <td>111.169998</td>\n",
              "      <td>112.639999</td>\n",
              "      <td>1</td>\n",
              "    </tr>\n",
              "    <tr>\n",
              "      <th>2010-03-02</th>\n",
              "      <td>104.010002</td>\n",
              "      <td>45.549999</td>\n",
              "      <td>112.199997</td>\n",
              "      <td>5673300.0</td>\n",
              "      <td>76368500.0</td>\n",
              "      <td>160992400.0</td>\n",
              "      <td>104.639999</td>\n",
              "      <td>45.849998</td>\n",
              "      <td>112.739998</td>\n",
              "      <td>103.949997</td>\n",
              "      <td>45.450001</td>\n",
              "      <td>112.000000</td>\n",
              "      <td>114.250000</td>\n",
              "      <td>1</td>\n",
              "    </tr>\n",
              "    <tr>\n",
              "      <th>2010-03-03</th>\n",
              "      <td>104.089996</td>\n",
              "      <td>45.599998</td>\n",
              "      <td>112.300003</td>\n",
              "      <td>5891900.0</td>\n",
              "      <td>65735500.0</td>\n",
              "      <td>150785000.0</td>\n",
              "      <td>104.769997</td>\n",
              "      <td>45.820000</td>\n",
              "      <td>112.970001</td>\n",
              "      <td>103.830002</td>\n",
              "      <td>45.430000</td>\n",
              "      <td>112.019997</td>\n",
              "      <td>114.269997</td>\n",
              "      <td>1</td>\n",
              "    </tr>\n",
              "    <tr>\n",
              "      <th>2010-03-04</th>\n",
              "      <td>104.500000</td>\n",
              "      <td>45.750000</td>\n",
              "      <td>112.639999</td>\n",
              "      <td>6168300.0</td>\n",
              "      <td>54470900.0</td>\n",
              "      <td>135770400.0</td>\n",
              "      <td>104.570000</td>\n",
              "      <td>45.810001</td>\n",
              "      <td>112.800003</td>\n",
              "      <td>103.959999</td>\n",
              "      <td>45.400002</td>\n",
              "      <td>112.029999</td>\n",
              "      <td>114.459999</td>\n",
              "      <td>1</td>\n",
              "    </tr>\n",
              "    <tr>\n",
              "      <th>2010-03-05</th>\n",
              "      <td>105.760002</td>\n",
              "      <td>46.439999</td>\n",
              "      <td>114.250000</td>\n",
              "      <td>6753500.0</td>\n",
              "      <td>68136300.0</td>\n",
              "      <td>176118800.0</td>\n",
              "      <td>105.769997</td>\n",
              "      <td>46.540001</td>\n",
              "      <td>114.339996</td>\n",
              "      <td>104.870003</td>\n",
              "      <td>45.990002</td>\n",
              "      <td>113.099998</td>\n",
              "      <td>114.970001</td>\n",
              "      <td>1</td>\n",
              "    </tr>\n",
              "  </tbody>\n",
              "</table>\n",
              "</div>"
            ],
            "text/plain": [
              "Attributes       Close                            Volume              \\\n",
              "Symbols            DIA        QQQ         SPY        DIA         QQQ   \n",
              "Date                                                                   \n",
              "2010-03-01  104.019997  45.410000  111.889999  5818700.0  77290100.0   \n",
              "2010-03-02  104.010002  45.549999  112.199997  5673300.0  76368500.0   \n",
              "2010-03-03  104.089996  45.599998  112.300003  5891900.0  65735500.0   \n",
              "2010-03-04  104.500000  45.750000  112.639999  6168300.0  54470900.0   \n",
              "2010-03-05  105.760002  46.439999  114.250000  6753500.0  68136300.0   \n",
              "\n",
              "Attributes                     High                                Low  \\\n",
              "Symbols             SPY         DIA        QQQ         SPY         DIA   \n",
              "Date                                                                     \n",
              "2010-03-01  147709700.0  104.199997  45.490002  112.000000  103.580002   \n",
              "2010-03-02  160992400.0  104.639999  45.849998  112.739998  103.949997   \n",
              "2010-03-03  150785000.0  104.769997  45.820000  112.970001  103.830002   \n",
              "2010-03-04  135770400.0  104.570000  45.810001  112.800003  103.959999   \n",
              "2010-03-05  176118800.0  105.769997  46.540001  114.339996  104.870003   \n",
              "\n",
              "Attributes                             future target  \n",
              "Symbols           QQQ         SPY                     \n",
              "Date                                                  \n",
              "2010-03-01  44.950001  111.169998  112.639999      1  \n",
              "2010-03-02  45.450001  112.000000  114.250000      1  \n",
              "2010-03-03  45.430000  112.019997  114.269997      1  \n",
              "2010-03-04  45.400002  112.029999  114.459999      1  \n",
              "2010-03-05  45.990002  113.099998  114.970001      1  "
            ]
          },
          "metadata": {
            "tags": []
          },
          "execution_count": 89
        }
      ]
    },
    {
      "metadata": {
        "id": "bLkDxP7hmQfw",
        "colab_type": "text"
      },
      "cell_type": "markdown",
      "source": [
        "### Training/Test set split"
      ]
    },
    {
      "metadata": {
        "id": "Lv9K5aC7meZn",
        "colab_type": "code",
        "colab": {}
      },
      "cell_type": "code",
      "source": [
        "from sklearn import preprocessing\n",
        "from collections import deque\n",
        "import random"
      ],
      "execution_count": 0,
      "outputs": []
    },
    {
      "metadata": {
        "id": "wQpJ28EamLtB",
        "colab_type": "code",
        "colab": {}
      },
      "cell_type": "code",
      "source": [
        "times = sorted(df.index.values)\n",
        "last_10pct = times[-int(.1*len(times))]\n"
      ],
      "execution_count": 0,
      "outputs": []
    },
    {
      "metadata": {
        "id": "Z5LMmNrPmXM5",
        "colab_type": "code",
        "colab": {}
      },
      "cell_type": "code",
      "source": [
        "valid_df = df[(df.index >= last_10pct)]\n",
        "\n",
        "main_df = df[(df.index < last_10pct)]"
      ],
      "execution_count": 0,
      "outputs": []
    },
    {
      "metadata": {
        "id": "UT5Ke2BImay8",
        "colab_type": "code",
        "colab": {}
      },
      "cell_type": "code",
      "source": [
        "def preprocess_df(df):\n",
        "  df = df.drop('future',1)\n",
        "  \n",
        "  for col in df.columns:\n",
        "    if col != ('target', ''):\n",
        "      df[col] = df[col].pct_change()\n",
        "      df.dropna(inplace=True)\n",
        "      df[col] = preprocessing.scale(df[col].values)\n",
        "      \n",
        "  df.dropna(inplace=True)\n",
        "  \n",
        "  seq_data = []\n",
        "  prev_days = deque(maxlen=SEQ_LEN)\n",
        "  \n",
        "  for i in df.values:\n",
        "    prev_days.append([n for n in i[:-1]])\n",
        "    if len(prev_days) == SEQ_LEN:\n",
        "      seq_data.append([np.array(prev_days),i[-1]])\n",
        "  random.shuffle(seq_data)\n",
        "  \n",
        "  buys = []\n",
        "  sells = []\n",
        "  \n",
        "  for seq, target in seq_data:\n",
        "    if target == 0:\n",
        "      sells.append([seq, target])\n",
        "    else:\n",
        "        buys.append([seq, target])\n",
        "        \n",
        "  random.shuffle(buys)\n",
        "  random.shuffle(sells)\n",
        "  \n",
        "  lower = min(len(buys),len(sells))\n",
        "  \n",
        "  buys = buys[:lower]\n",
        "  sells = sells[:lower]\n",
        "  \n",
        "  seq_data_2 = buys+sells\n",
        "  random.shuffle(seq_data_2)\n",
        "  \n",
        "  X = []\n",
        "  y = []\n",
        "  \n",
        "  for seq, target in seq_data_2:\n",
        "    X.append(seq)\n",
        "    y.append(target)\n",
        "    \n",
        "  return np.array(X),y\n",
        " \n",
        " "
      ],
      "execution_count": 0,
      "outputs": []
    },
    {
      "metadata": {
        "id": "zywMVqBxmnoS",
        "colab_type": "code",
        "colab": {
          "base_uri": "https://localhost:8080/",
          "height": 105
        },
        "outputId": "bce637ce-c290-46a4-ff39-e244f76f6f98"
      },
      "cell_type": "code",
      "source": [
        "train_X, train_y = preprocess_df(main_df)\n",
        "val_X, val_y = preprocess_df(valid_df)"
      ],
      "execution_count": 94,
      "outputs": [
        {
          "output_type": "stream",
          "text": [
            "/usr/local/lib/python3.6/dist-packages/pandas/core/generic.py:2530: PerformanceWarning: dropping on a non-lexsorted multi-index without a level parameter may impact performance.\n",
            "  obj = obj._drop_axis(labels, axis, level=level, errors=errors)\n",
            "/usr/local/lib/python3.6/dist-packages/pandas/core/generic.py:2530: PerformanceWarning: dropping on a non-lexsorted multi-index without a level parameter may impact performance.\n",
            "  obj = obj._drop_axis(labels, axis, level=level, errors=errors)\n"
          ],
          "name": "stderr"
        }
      ]
    },
    {
      "metadata": {
        "id": "al6Dgl9BnTwI",
        "colab_type": "text"
      },
      "cell_type": "markdown",
      "source": [
        "- to make sure the code does not just guess that to just always buy because there are more buys then sells i made the number of buys equal the number of sells"
      ]
    },
    {
      "metadata": {
        "id": "Q9mlApbRm2kv",
        "colab_type": "code",
        "colab": {
          "base_uri": "https://localhost:8080/",
          "height": 34
        },
        "outputId": "837257c6-1d1e-492c-a568-d983095a5a72"
      },
      "cell_type": "code",
      "source": [
        "train_y.count(0)"
      ],
      "execution_count": 95,
      "outputs": [
        {
          "output_type": "execute_result",
          "data": {
            "text/plain": [
              "737"
            ]
          },
          "metadata": {
            "tags": []
          },
          "execution_count": 95
        }
      ]
    },
    {
      "metadata": {
        "id": "o877EZEMnK5l",
        "colab_type": "code",
        "colab": {
          "base_uri": "https://localhost:8080/",
          "height": 34
        },
        "outputId": "891a9715-2332-43fe-8bbe-186589e686e6"
      },
      "cell_type": "code",
      "source": [
        "train_y.count(1)"
      ],
      "execution_count": 96,
      "outputs": [
        {
          "output_type": "execute_result",
          "data": {
            "text/plain": [
              "737"
            ]
          },
          "metadata": {
            "tags": []
          },
          "execution_count": 96
        }
      ]
    },
    {
      "metadata": {
        "id": "ZCeZSQtDnpfp",
        "colab_type": "text"
      },
      "cell_type": "markdown",
      "source": [
        "## Build the Model\n",
        "- will use a CuDNNLSTM (if has GPU,use LSTM if no GPU)\n",
        "- then put through Dense layers\n",
        "- then output a prediction of if it thiks the price will go up or down"
      ]
    },
    {
      "metadata": {
        "id": "39pFQqy9nNci",
        "colab_type": "code",
        "colab": {}
      },
      "cell_type": "code",
      "source": [
        "import time\n",
        "import tensorflow as tf\n",
        "from tensorflow.keras.models import Sequential\n",
        "from tensorflow.keras.layers import Dense, Dropout, LSTM, CuDNNLSTM, BatchNormalization"
      ],
      "execution_count": 0,
      "outputs": []
    },
    {
      "metadata": {
        "id": "jR39dyUsnufu",
        "colab_type": "code",
        "colab": {}
      },
      "cell_type": "code",
      "source": [
        "model = Sequential()\n",
        "model.add(CuDNNLSTM(128, input_shape = (train_X.shape[1:]), return_sequences=True))\n",
        "model.add(Dropout(.2))\n",
        "model.add(BatchNormalization())\n",
        "\n",
        "model.add(CuDNNLSTM(128, input_shape = (train_X.shape[1:]), return_sequences=True))\n",
        "model.add(Dropout(.2))\n",
        "model.add(BatchNormalization())\n",
        "\n",
        "\n",
        "model.add(CuDNNLSTM(128, input_shape = (train_X.shape[1:])))\n",
        "model.add(Dropout(.2))\n",
        "model.add(BatchNormalization())\n",
        "\n",
        "model.add(Dense(50,activation='relu'))\n",
        "model.add(Dropout(.25))\n",
        "model.add(BatchNormalization())\n",
        "\n",
        "\n",
        "model.add(Dense(32,activation='relu'))\n",
        "\n",
        "\n",
        "model.add(Dense(10,activation='relu'))\n",
        "\n",
        "\n",
        "model.add(Dense(1, activation=tf.nn.sigmoid))"
      ],
      "execution_count": 0,
      "outputs": []
    },
    {
      "metadata": {
        "id": "Y-C3z9Sxn-uE",
        "colab_type": "code",
        "colab": {}
      },
      "cell_type": "code",
      "source": [
        "opt = tf.keras.optimizers.Adam()"
      ],
      "execution_count": 0,
      "outputs": []
    },
    {
      "metadata": {
        "id": "qz2J5SvEoCIr",
        "colab_type": "code",
        "colab": {}
      },
      "cell_type": "code",
      "source": [
        "model.compile(optimizer=opt,#'adam'\n",
        "              loss='binary_crossentropy',\n",
        "              metrics=['acc'])"
      ],
      "execution_count": 0,
      "outputs": []
    },
    {
      "metadata": {
        "id": "L-czPR5goEq_",
        "colab_type": "code",
        "colab": {
          "base_uri": "https://localhost:8080/",
          "height": 374
        },
        "outputId": "8ab27489-d9ef-4ad3-c9b0-6b304b5b2c48"
      },
      "cell_type": "code",
      "source": [
        "history = model.fit(\n",
        "train_X,train_y,batch_size=10,\n",
        "epochs=10,\n",
        "validation_data=(val_X,val_y))"
      ],
      "execution_count": 120,
      "outputs": [
        {
          "output_type": "stream",
          "text": [
            "Train on 1474 samples, validate on 108 samples\n",
            "Epoch 1/10\n",
            "1474/1474 [==============================] - 8s 5ms/sample - loss: 0.7318 - acc: 0.5068 - val_loss: 0.6882 - val_acc: 0.5093\n",
            "Epoch 2/10\n",
            "1474/1474 [==============================] - 6s 4ms/sample - loss: 0.7004 - acc: 0.5176 - val_loss: 0.7013 - val_acc: 0.5278\n",
            "Epoch 3/10\n",
            "1474/1474 [==============================] - 6s 4ms/sample - loss: 0.7033 - acc: 0.5197 - val_loss: 0.6822 - val_acc: 0.5648\n",
            "Epoch 4/10\n",
            "1474/1474 [==============================] - 6s 4ms/sample - loss: 0.6945 - acc: 0.5217 - val_loss: 0.7323 - val_acc: 0.4167\n",
            "Epoch 5/10\n",
            "1474/1474 [==============================] - 6s 4ms/sample - loss: 0.7023 - acc: 0.4973 - val_loss: 0.7031 - val_acc: 0.5000\n",
            "Epoch 6/10\n",
            "1474/1474 [==============================] - 6s 4ms/sample - loss: 0.6985 - acc: 0.4993 - val_loss: 0.6917 - val_acc: 0.5185\n",
            "Epoch 7/10\n",
            "1474/1474 [==============================] - 6s 4ms/sample - loss: 0.6925 - acc: 0.5380 - val_loss: 0.6953 - val_acc: 0.5278\n",
            "Epoch 8/10\n",
            "1474/1474 [==============================] - 6s 4ms/sample - loss: 0.6989 - acc: 0.4953 - val_loss: 0.7000 - val_acc: 0.5278\n",
            "Epoch 9/10\n",
            "1474/1474 [==============================] - 6s 4ms/sample - loss: 0.6900 - acc: 0.5265 - val_loss: 0.6924 - val_acc: 0.5463\n",
            "Epoch 10/10\n",
            "1474/1474 [==============================] - 6s 4ms/sample - loss: 0.6941 - acc: 0.5027 - val_loss: 0.6931 - val_acc: 0.5463\n"
          ],
          "name": "stdout"
        }
      ]
    },
    {
      "metadata": {
        "id": "_xZfIlJ8ojMv",
        "colab_type": "text"
      },
      "cell_type": "markdown",
      "source": [
        ""
      ]
    },
    {
      "metadata": {
        "id": "70-VtIGFt9-W",
        "colab_type": "text"
      },
      "cell_type": "markdown",
      "source": [
        "### Test Set"
      ]
    },
    {
      "metadata": {
        "id": "Tnjbv13NoHZm",
        "colab_type": "code",
        "colab": {
          "base_uri": "https://localhost:8080/",
          "height": 286
        },
        "outputId": "ee4026f3-2a98-4b2f-e0ed-2134c35eb6d1"
      },
      "cell_type": "code",
      "source": [
        "start = datetime(2018, 3, 2)\n",
        "\n",
        "end = datetime(2019, 3, 12)\n",
        "\n",
        "stocks = ['SPY','DIA','QQQ']\n",
        "\n",
        "f = web.DataReader(stocks, 'yahoo', start, end)\n",
        "\n",
        "f.tail()"
      ],
      "execution_count": 121,
      "outputs": [
        {
          "output_type": "execute_result",
          "data": {
            "text/html": [
              "<div>\n",
              "<style scoped>\n",
              "    .dataframe tbody tr th:only-of-type {\n",
              "        vertical-align: middle;\n",
              "    }\n",
              "\n",
              "    .dataframe tbody tr th {\n",
              "        vertical-align: top;\n",
              "    }\n",
              "\n",
              "    .dataframe thead tr th {\n",
              "        text-align: left;\n",
              "    }\n",
              "\n",
              "    .dataframe thead tr:last-of-type th {\n",
              "        text-align: right;\n",
              "    }\n",
              "</style>\n",
              "<table border=\"1\" class=\"dataframe\">\n",
              "  <thead>\n",
              "    <tr>\n",
              "      <th>Attributes</th>\n",
              "      <th colspan=\"3\" halign=\"left\">High</th>\n",
              "      <th colspan=\"3\" halign=\"left\">Low</th>\n",
              "      <th colspan=\"3\" halign=\"left\">Open</th>\n",
              "      <th colspan=\"3\" halign=\"left\">Close</th>\n",
              "      <th colspan=\"3\" halign=\"left\">Volume</th>\n",
              "      <th colspan=\"3\" halign=\"left\">Adj Close</th>\n",
              "    </tr>\n",
              "    <tr>\n",
              "      <th>Symbols</th>\n",
              "      <th>DIA</th>\n",
              "      <th>QQQ</th>\n",
              "      <th>SPY</th>\n",
              "      <th>DIA</th>\n",
              "      <th>QQQ</th>\n",
              "      <th>SPY</th>\n",
              "      <th>DIA</th>\n",
              "      <th>QQQ</th>\n",
              "      <th>SPY</th>\n",
              "      <th>DIA</th>\n",
              "      <th>QQQ</th>\n",
              "      <th>SPY</th>\n",
              "      <th>DIA</th>\n",
              "      <th>QQQ</th>\n",
              "      <th>SPY</th>\n",
              "      <th>DIA</th>\n",
              "      <th>QQQ</th>\n",
              "      <th>SPY</th>\n",
              "    </tr>\n",
              "    <tr>\n",
              "      <th>Date</th>\n",
              "      <th></th>\n",
              "      <th></th>\n",
              "      <th></th>\n",
              "      <th></th>\n",
              "      <th></th>\n",
              "      <th></th>\n",
              "      <th></th>\n",
              "      <th></th>\n",
              "      <th></th>\n",
              "      <th></th>\n",
              "      <th></th>\n",
              "      <th></th>\n",
              "      <th></th>\n",
              "      <th></th>\n",
              "      <th></th>\n",
              "      <th></th>\n",
              "      <th></th>\n",
              "      <th></th>\n",
              "    </tr>\n",
              "  </thead>\n",
              "  <tbody>\n",
              "    <tr>\n",
              "      <th>2019-03-06</th>\n",
              "      <td>258.450012</td>\n",
              "      <td>174.750000</td>\n",
              "      <td>279.160004</td>\n",
              "      <td>256.450012</td>\n",
              "      <td>173.279999</td>\n",
              "      <td>276.970001</td>\n",
              "      <td>258.239990</td>\n",
              "      <td>174.720001</td>\n",
              "      <td>279.149994</td>\n",
              "      <td>256.869995</td>\n",
              "      <td>173.559998</td>\n",
              "      <td>277.329987</td>\n",
              "      <td>3222000.0</td>\n",
              "      <td>27194600.0</td>\n",
              "      <td>75039800.0</td>\n",
              "      <td>256.326416</td>\n",
              "      <td>173.559998</td>\n",
              "      <td>276.113770</td>\n",
              "    </tr>\n",
              "    <tr>\n",
              "      <th>2019-03-07</th>\n",
              "      <td>256.489990</td>\n",
              "      <td>173.179993</td>\n",
              "      <td>276.989990</td>\n",
              "      <td>253.610001</td>\n",
              "      <td>170.789993</td>\n",
              "      <td>274.070007</td>\n",
              "      <td>256.399994</td>\n",
              "      <td>173.119995</td>\n",
              "      <td>276.829987</td>\n",
              "      <td>254.809998</td>\n",
              "      <td>171.429993</td>\n",
              "      <td>275.010010</td>\n",
              "      <td>4104600.0</td>\n",
              "      <td>39407400.0</td>\n",
              "      <td>94885100.0</td>\n",
              "      <td>254.270767</td>\n",
              "      <td>171.429993</td>\n",
              "      <td>273.803986</td>\n",
              "    </tr>\n",
              "    <tr>\n",
              "      <th>2019-03-08</th>\n",
              "      <td>254.899994</td>\n",
              "      <td>171.259995</td>\n",
              "      <td>274.649994</td>\n",
              "      <td>252.740005</td>\n",
              "      <td>169.339996</td>\n",
              "      <td>272.420013</td>\n",
              "      <td>252.880005</td>\n",
              "      <td>169.509995</td>\n",
              "      <td>272.940002</td>\n",
              "      <td>254.710007</td>\n",
              "      <td>171.169998</td>\n",
              "      <td>274.459991</td>\n",
              "      <td>5495800.0</td>\n",
              "      <td>39303200.0</td>\n",
              "      <td>85795800.0</td>\n",
              "      <td>254.170990</td>\n",
              "      <td>171.169998</td>\n",
              "      <td>273.256378</td>\n",
              "    </tr>\n",
              "    <tr>\n",
              "      <th>2019-03-11</th>\n",
              "      <td>256.829987</td>\n",
              "      <td>174.850006</td>\n",
              "      <td>278.619995</td>\n",
              "      <td>252.460007</td>\n",
              "      <td>171.850006</td>\n",
              "      <td>275.230011</td>\n",
              "      <td>252.850006</td>\n",
              "      <td>171.880005</td>\n",
              "      <td>275.260010</td>\n",
              "      <td>256.760010</td>\n",
              "      <td>174.729996</td>\n",
              "      <td>278.440002</td>\n",
              "      <td>5469400.0</td>\n",
              "      <td>30518400.0</td>\n",
              "      <td>65098900.0</td>\n",
              "      <td>256.216644</td>\n",
              "      <td>174.729996</td>\n",
              "      <td>277.218933</td>\n",
              "    </tr>\n",
              "    <tr>\n",
              "      <th>2019-03-12</th>\n",
              "      <td>256.970001</td>\n",
              "      <td>176.139999</td>\n",
              "      <td>280.070007</td>\n",
              "      <td>255.429993</td>\n",
              "      <td>174.770004</td>\n",
              "      <td>278.850006</td>\n",
              "      <td>256.239990</td>\n",
              "      <td>175.190002</td>\n",
              "      <td>279.059998</td>\n",
              "      <td>255.860001</td>\n",
              "      <td>175.690002</td>\n",
              "      <td>279.489990</td>\n",
              "      <td>6570500.0</td>\n",
              "      <td>33953500.0</td>\n",
              "      <td>79667500.0</td>\n",
              "      <td>255.318542</td>\n",
              "      <td>175.690002</td>\n",
              "      <td>278.264313</td>\n",
              "    </tr>\n",
              "  </tbody>\n",
              "</table>\n",
              "</div>"
            ],
            "text/plain": [
              "Attributes        High                                 Low              \\\n",
              "Symbols            DIA         QQQ         SPY         DIA         QQQ   \n",
              "Date                                                                     \n",
              "2019-03-06  258.450012  174.750000  279.160004  256.450012  173.279999   \n",
              "2019-03-07  256.489990  173.179993  276.989990  253.610001  170.789993   \n",
              "2019-03-08  254.899994  171.259995  274.649994  252.740005  169.339996   \n",
              "2019-03-11  256.829987  174.850006  278.619995  252.460007  171.850006   \n",
              "2019-03-12  256.970001  176.139999  280.070007  255.429993  174.770004   \n",
              "\n",
              "Attributes                    Open                               Close  \\\n",
              "Symbols            SPY         DIA         QQQ         SPY         DIA   \n",
              "Date                                                                     \n",
              "2019-03-06  276.970001  258.239990  174.720001  279.149994  256.869995   \n",
              "2019-03-07  274.070007  256.399994  173.119995  276.829987  254.809998   \n",
              "2019-03-08  272.420013  252.880005  169.509995  272.940002  254.710007   \n",
              "2019-03-11  275.230011  252.850006  171.880005  275.260010  256.760010   \n",
              "2019-03-12  278.850006  256.239990  175.190002  279.059998  255.860001   \n",
              "\n",
              "Attributes                             Volume                          \\\n",
              "Symbols            QQQ         SPY        DIA         QQQ         SPY   \n",
              "Date                                                                    \n",
              "2019-03-06  173.559998  277.329987  3222000.0  27194600.0  75039800.0   \n",
              "2019-03-07  171.429993  275.010010  4104600.0  39407400.0  94885100.0   \n",
              "2019-03-08  171.169998  274.459991  5495800.0  39303200.0  85795800.0   \n",
              "2019-03-11  174.729996  278.440002  5469400.0  30518400.0  65098900.0   \n",
              "2019-03-12  175.690002  279.489990  6570500.0  33953500.0  79667500.0   \n",
              "\n",
              "Attributes   Adj Close                          \n",
              "Symbols            DIA         QQQ         SPY  \n",
              "Date                                            \n",
              "2019-03-06  256.326416  173.559998  276.113770  \n",
              "2019-03-07  254.270767  171.429993  273.803986  \n",
              "2019-03-08  254.170990  171.169998  273.256378  \n",
              "2019-03-11  256.216644  174.729996  277.218933  \n",
              "2019-03-12  255.318542  175.690002  278.264313  "
            ]
          },
          "metadata": {
            "tags": []
          },
          "execution_count": 121
        }
      ]
    },
    {
      "metadata": {
        "id": "lsXwGz50r2wZ",
        "colab_type": "code",
        "colab": {
          "base_uri": "https://localhost:8080/",
          "height": 119
        },
        "outputId": "889aa0db-0d13-423e-dd02-3cced44b2dea"
      },
      "cell_type": "code",
      "source": [
        "df_test = f[['Close',\n",
        "            'Volume','High','Low']]\n",
        "df_test['future'] = df_test['Close'][STOCK].shift(-PERIODS_FORWARD)"
      ],
      "execution_count": 122,
      "outputs": [
        {
          "output_type": "stream",
          "text": [
            "/usr/local/lib/python3.6/dist-packages/ipykernel_launcher.py:3: SettingWithCopyWarning: \n",
            "A value is trying to be set on a copy of a slice from a DataFrame.\n",
            "Try using .loc[row_indexer,col_indexer] = value instead\n",
            "\n",
            "See the caveats in the documentation: http://pandas.pydata.org/pandas-docs/stable/indexing.html#indexing-view-versus-copy\n",
            "  This is separate from the ipykernel package so we can avoid doing imports until\n"
          ],
          "name": "stderr"
        }
      ]
    },
    {
      "metadata": {
        "id": "0OoKfGQEr5Z3",
        "colab_type": "code",
        "colab": {
          "base_uri": "https://localhost:8080/",
          "height": 119
        },
        "outputId": "e395ad92-d9ef-435a-bcd0-ad77bc1f9bbf"
      },
      "cell_type": "code",
      "source": [
        "df_test['target'] = list(map(classify,df_test['Close'][STOCK],df_test['future']))"
      ],
      "execution_count": 123,
      "outputs": [
        {
          "output_type": "stream",
          "text": [
            "/usr/local/lib/python3.6/dist-packages/ipykernel_launcher.py:1: SettingWithCopyWarning: \n",
            "A value is trying to be set on a copy of a slice from a DataFrame.\n",
            "Try using .loc[row_indexer,col_indexer] = value instead\n",
            "\n",
            "See the caveats in the documentation: http://pandas.pydata.org/pandas-docs/stable/indexing.html#indexing-view-versus-copy\n",
            "  \"\"\"Entry point for launching an IPython kernel.\n"
          ],
          "name": "stderr"
        }
      ]
    },
    {
      "metadata": {
        "id": "31VrlFjZr7WR",
        "colab_type": "code",
        "colab": {
          "base_uri": "https://localhost:8080/",
          "height": 71
        },
        "outputId": "41542b3c-11b7-4158-ca64-2c6333d7fd7a"
      },
      "cell_type": "code",
      "source": [
        "test_X, test_y = preprocess_df(df_test)"
      ],
      "execution_count": 124,
      "outputs": [
        {
          "output_type": "stream",
          "text": [
            "/usr/local/lib/python3.6/dist-packages/pandas/core/generic.py:2530: PerformanceWarning: dropping on a non-lexsorted multi-index without a level parameter may impact performance.\n",
            "  obj = obj._drop_axis(labels, axis, level=level, errors=errors)\n"
          ],
          "name": "stderr"
        }
      ]
    },
    {
      "metadata": {
        "id": "ufkZLgocsDEt",
        "colab_type": "code",
        "colab": {}
      },
      "cell_type": "code",
      "source": [
        "pred =model.predict_classes(test_X)\n"
      ],
      "execution_count": 0,
      "outputs": []
    },
    {
      "metadata": {
        "id": "zRghaiMxsFSf",
        "colab_type": "code",
        "colab": {}
      },
      "cell_type": "code",
      "source": [
        "prob =model.predict(test_X)"
      ],
      "execution_count": 0,
      "outputs": []
    },
    {
      "metadata": {
        "id": "zBUIWETQsHjD",
        "colab_type": "code",
        "colab": {
          "base_uri": "https://localhost:8080/",
          "height": 34
        },
        "outputId": "8c80579a-de22-4756-91b5-c43cce968035"
      },
      "cell_type": "code",
      "source": [
        "\n",
        "from sklearn.metrics import precision_score, recall_score\n",
        "\n",
        "precision_score(test_y,pred)"
      ],
      "execution_count": 132,
      "outputs": [
        {
          "output_type": "execute_result",
          "data": {
            "text/plain": [
              "0.4819277108433735"
            ]
          },
          "metadata": {
            "tags": []
          },
          "execution_count": 132
        }
      ]
    },
    {
      "metadata": {
        "id": "k8oOyfUFsKe9",
        "colab_type": "code",
        "colab": {
          "base_uri": "https://localhost:8080/",
          "height": 34
        },
        "outputId": "35c138e5-5b76-49d6-9eb2-e09bf51638cc"
      },
      "cell_type": "code",
      "source": [
        "recall_score(test_y,pred)"
      ],
      "execution_count": 133,
      "outputs": [
        {
          "output_type": "execute_result",
          "data": {
            "text/plain": [
              "0.4444444444444444"
            ]
          },
          "metadata": {
            "tags": []
          },
          "execution_count": 133
        }
      ]
    },
    {
      "metadata": {
        "id": "o0aDiFNGsOkx",
        "colab_type": "code",
        "colab": {
          "base_uri": "https://localhost:8080/",
          "height": 51
        },
        "outputId": "2ae85e14-6b9d-4d0b-f03b-28a8050ea5de"
      },
      "cell_type": "code",
      "source": [
        "from sklearn.metrics import confusion_matrix\n",
        "\n",
        "confusion_matrix( test_y,pred)"
      ],
      "execution_count": 134,
      "outputs": [
        {
          "output_type": "execute_result",
          "data": {
            "text/plain": [
              "array([[47, 43],\n",
              "       [50, 40]])"
            ]
          },
          "metadata": {
            "tags": []
          },
          "execution_count": 134
        }
      ]
    },
    {
      "metadata": {
        "id": "glpXLF1bsSX2",
        "colab_type": "code",
        "colab": {}
      },
      "cell_type": "code",
      "source": [
        "pred2 = prob > .51"
      ],
      "execution_count": 0,
      "outputs": []
    },
    {
      "metadata": {
        "id": "xwrgJIf_tzND",
        "colab_type": "code",
        "colab": {
          "base_uri": "https://localhost:8080/",
          "height": 51
        },
        "outputId": "20ce57c1-877d-43cc-f326-1c1551adb87e"
      },
      "cell_type": "code",
      "source": [
        "confusion_matrix( test_y,pred2)"
      ],
      "execution_count": 138,
      "outputs": [
        {
          "output_type": "execute_result",
          "data": {
            "text/plain": [
              "array([[78, 12],\n",
              "       [75, 15]])"
            ]
          },
          "metadata": {
            "tags": []
          },
          "execution_count": 138
        }
      ]
    },
    {
      "metadata": {
        "id": "PEjRCev0t2F3",
        "colab_type": "code",
        "colab": {
          "base_uri": "https://localhost:8080/",
          "height": 34
        },
        "outputId": "473ceada-55fc-446d-db9b-c55108c16259"
      },
      "cell_type": "code",
      "source": [
        "precision_score(test_y,pred2)"
      ],
      "execution_count": 139,
      "outputs": [
        {
          "output_type": "execute_result",
          "data": {
            "text/plain": [
              "0.5555555555555556"
            ]
          },
          "metadata": {
            "tags": []
          },
          "execution_count": 139
        }
      ]
    },
    {
      "metadata": {
        "id": "IKyaiJhqt6bB",
        "colab_type": "code",
        "colab": {}
      },
      "cell_type": "code",
      "source": [
        ""
      ],
      "execution_count": 0,
      "outputs": []
    }
  ]
}